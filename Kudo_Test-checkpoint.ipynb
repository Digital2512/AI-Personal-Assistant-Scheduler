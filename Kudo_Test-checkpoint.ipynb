{
 "cells": [
  {
   "cell_type": "code",
   "execution_count": 55,
   "id": "3d8546e2-5508-48b9-ab77-382965512ac8",
   "metadata": {},
   "outputs": [
    {
     "ename": "FileNotFoundError",
     "evalue": "[Errno 2] No such file or directory: '/dataset/data.csv'",
     "output_type": "error",
     "traceback": [
      "\u001b[1;31m---------------------------------------------------------------------------\u001b[0m",
      "\u001b[1;31mFileNotFoundError\u001b[0m                         Traceback (most recent call last)",
      "Cell \u001b[1;32mIn[55], line 12\u001b[0m\n\u001b[0;32m      9\u001b[0m time_slots_per_day \u001b[38;5;241m=\u001b[39m \u001b[38;5;241m24\u001b[39m\n\u001b[0;32m     10\u001b[0m num_time_slots \u001b[38;5;241m=\u001b[39m num_days \u001b[38;5;241m*\u001b[39m time_slots_per_day\n\u001b[1;32m---> 12\u001b[0m reader \u001b[38;5;241m=\u001b[39m csv\u001b[38;5;241m.\u001b[39mDictReader(\u001b[38;5;28;43mopen\u001b[39;49m\u001b[43m(\u001b[49m\u001b[38;5;124;43m'\u001b[39;49m\u001b[38;5;124;43m/dataset/data.csv\u001b[39;49m\u001b[38;5;124;43m'\u001b[39;49m\u001b[43m)\u001b[49m)\n\u001b[0;32m     13\u001b[0m \u001b[38;5;28mprint\u001b[39m(reader)\n",
      "File \u001b[1;32m~\\AppData\\Roaming\\Python\\Python312\\site-packages\\IPython\\core\\interactiveshell.py:324\u001b[0m, in \u001b[0;36m_modified_open\u001b[1;34m(file, *args, **kwargs)\u001b[0m\n\u001b[0;32m    317\u001b[0m \u001b[38;5;28;01mif\u001b[39;00m file \u001b[38;5;129;01min\u001b[39;00m {\u001b[38;5;241m0\u001b[39m, \u001b[38;5;241m1\u001b[39m, \u001b[38;5;241m2\u001b[39m}:\n\u001b[0;32m    318\u001b[0m     \u001b[38;5;28;01mraise\u001b[39;00m \u001b[38;5;167;01mValueError\u001b[39;00m(\n\u001b[0;32m    319\u001b[0m         \u001b[38;5;124mf\u001b[39m\u001b[38;5;124m\"\u001b[39m\u001b[38;5;124mIPython won\u001b[39m\u001b[38;5;124m'\u001b[39m\u001b[38;5;124mt let you open fd=\u001b[39m\u001b[38;5;132;01m{\u001b[39;00mfile\u001b[38;5;132;01m}\u001b[39;00m\u001b[38;5;124m by default \u001b[39m\u001b[38;5;124m\"\u001b[39m\n\u001b[0;32m    320\u001b[0m         \u001b[38;5;124m\"\u001b[39m\u001b[38;5;124mas it is likely to crash IPython. If you know what you are doing, \u001b[39m\u001b[38;5;124m\"\u001b[39m\n\u001b[0;32m    321\u001b[0m         \u001b[38;5;124m\"\u001b[39m\u001b[38;5;124myou can use builtins\u001b[39m\u001b[38;5;124m'\u001b[39m\u001b[38;5;124m open.\u001b[39m\u001b[38;5;124m\"\u001b[39m\n\u001b[0;32m    322\u001b[0m     )\n\u001b[1;32m--> 324\u001b[0m \u001b[38;5;28;01mreturn\u001b[39;00m \u001b[43mio_open\u001b[49m\u001b[43m(\u001b[49m\u001b[43mfile\u001b[49m\u001b[43m,\u001b[49m\u001b[43m \u001b[49m\u001b[38;5;241;43m*\u001b[39;49m\u001b[43margs\u001b[49m\u001b[43m,\u001b[49m\u001b[43m \u001b[49m\u001b[38;5;241;43m*\u001b[39;49m\u001b[38;5;241;43m*\u001b[39;49m\u001b[43mkwargs\u001b[49m\u001b[43m)\u001b[49m\n",
      "\u001b[1;31mFileNotFoundError\u001b[0m: [Errno 2] No such file or directory: '/dataset/data.csv'"
     ]
    }
   ],
   "source": [
    "from ortools.sat.python import cp_model\n",
    "import csv\n",
    "\n",
    "\n",
    "model = cp_model.CpModel()\n",
    "\n",
    "# Constants\n",
    "num_days = 7  # Number of days in a week\n",
    "time_slots_per_day = 24\n",
    "num_time_slots = num_days * time_slots_per_day\n",
    "\n",
    "reader = csv.DictReader(open('/dataset/data.csv'))\n",
    "print(reader)"
   ]
  },
  {
   "cell_type": "code",
   "execution_count": 56,
   "id": "5e516885-dc35-400d-89b8-d2f83376b51c",
   "metadata": {},
   "outputs": [],
   "source": [
    "activities = [\n",
    "    {'name': 'Workout', 'priority': 5, 'preferred_start': 16, 'duration' : 2},  # Morning workout\n",
    "    {'name': 'Meeting', 'priority': 10, 'preferred_start': 12, 'duration' : 1},  # Important meeting\n",
    "    {'name': 'Lunch', 'priority': 3, 'preferred_start': 12, 'duration' : 1},  # Midday lunch\n",
    "    {'name': 'Study', 'priority': 7, 'preferred_start': 14, 'duration' : 2},  # Afternoon study\n",
    "    {'name': 'Relax', 'priority': 1, 'preferred_start': 20, 'duration' : 3},  # Evening relaxation\n",
    "]"
   ]
  },
  {
   "cell_type": "code",
   "execution_count": 49,
   "id": "764fca7d-ed66-4024-a816-53ecfb80bd3d",
   "metadata": {},
   "outputs": [
    {
     "name": "stdout",
     "output_type": "stream",
     "text": [
      "Sorted Schedule:\n",
      "Activity: Meeting, Priority: 10, Scheduled Start: Day 1, Time 11, Duration: 1 hours\n",
      "Activity: Lunch, Priority: 3, Scheduled Start: Day 1, Time 12, Duration: 1 hours\n",
      "Activity: Study, Priority: 7, Scheduled Start: Day 1, Time 14, Duration: 2 hours\n",
      "Activity: Workout, Priority: 5, Scheduled Start: Day 1, Time 16, Duration: 2 hours\n",
      "Activity: Relax, Priority: 1, Scheduled Start: Day 1, Time 20, Duration: 3 hours\n"
     ]
    }
   ],
   "source": [
    " # Variables\n",
    "activity_vars = {}\n",
    "abs_diff_vars = {}\n",
    "duration_vars = {}\n",
    "for i, activity in enumerate(activities):\n",
    "    # Variable for the start time of each activity\n",
    "    activity_vars[activity['name']] = model.NewIntVar(0, num_time_slots - 1, f\"activity_{i}\")\n",
    "    # Variable for the absolute difference between preferred and assigned time\n",
    "    abs_diff_vars[activity['name']] = model.NewIntVar(0, num_time_slots - 1, f\"abs_diff_{i}\")\n",
    "    # Variable for the duration of each activity\n",
    "    duration_vars[activity['name']] = activity['duration']  # Duration is given in the activity\n",
    "\n",
    "# Constraints\n",
    "all_tasks = list(activity_vars.values())\n",
    "model.AddAllDifferent(all_tasks)  # No overlapping activities\n",
    "\n",
    "# Preferred time constraints and objective function\n",
    "weighted_preferences = []\n",
    "for activity in activities:\n",
    "    activity_var = activity_vars[activity['name']]\n",
    "    preferred_time = activity['preferred_start']\n",
    "    priority = activity['priority']\n",
    "    duration = duration_vars[activity['name']]\n",
    "\n",
    "    # Define absolute difference using AddAbsEquality\n",
    "    abs_diff_var = abs_diff_vars[activity['name']]\n",
    "    model.AddAbsEquality(abs_diff_var, activity_var - preferred_time)\n",
    "\n",
    "    # Adjust priority: Lower value closer to 0 is higher priority\n",
    "    weight = (num_time_slots - priority) * abs_diff_var  # Inverse priority weighting\n",
    "    weighted_preferences.append(weight)\n",
    "\n",
    "    # Ensure the activity finishes before the end of the available time slots\n",
    "    model.Add(activity_var + duration <= num_time_slots)\n",
    "\n",
    "# Objective: Minimize weighted preferences to satisfy higher priority (lower priority number)\n",
    "model.Minimize(sum(weighted_preferences))\n",
    "\n",
    "# Solve the model\n",
    "solver = cp_model.CpSolver()\n",
    "status = solver.Solve(model)\n",
    "\n",
    "if status == cp_model.OPTIMAL or status == cp_model.FEASIBLE:\n",
    "    # Create a list of scheduled activities with their start times\n",
    "    scheduled_activities = []\n",
    "    for activity in activities:\n",
    "        start_time = solver.Value(activity_vars[activity['name']])\n",
    "        duration = activity['duration']\n",
    "        day = start_time // time_slots_per_day\n",
    "        time = start_time % time_slots_per_day\n",
    "        scheduled_activities.append({\n",
    "            'name': activity['name'],\n",
    "            'priority': activity['priority'],\n",
    "            'scheduled_start': start_time,\n",
    "            'day': day + 1,\n",
    "            'time': time,\n",
    "            'duration': duration\n",
    "        })\n",
    "    \n",
    "    # Sort activities by their scheduled start time\n",
    "    scheduled_activities.sort(key=lambda x: x['scheduled_start'])\n",
    "\n",
    "    # Print sorted schedule\n",
    "    print(\"Sorted Schedule:\")\n",
    "    for activity in scheduled_activities:\n",
    "        print(f\"Activity: {activity['name']}, Priority: {activity['priority']}, \"\n",
    "              f\"Scheduled Start: Day {activity['day']}, Time {activity['time']}, \"\n",
    "              f\"Duration: {activity['duration']} hours\")\n",
    "else:\n",
    "    print(\"No feasible schedule found.\")"
   ]
  },
  {
   "cell_type": "code",
   "execution_count": null,
   "id": "c48512da-5247-4744-afce-33c829ae2c54",
   "metadata": {},
   "outputs": [],
   "source": []
  },
  {
   "cell_type": "code",
   "execution_count": null,
   "id": "91c58bfe-fa64-4685-964a-5f8d403143f4",
   "metadata": {},
   "outputs": [],
   "source": []
  }
 ],
 "metadata": {
  "kernelspec": {
   "display_name": "Python 3 (ipykernel)",
   "language": "python",
   "name": "python3"
  },
  "language_info": {
   "codemirror_mode": {
    "name": "ipython",
    "version": 3
   },
   "file_extension": ".py",
   "mimetype": "text/x-python",
   "name": "python",
   "nbconvert_exporter": "python",
   "pygments_lexer": "ipython3",
   "version": "3.12.6"
  }
 },
 "nbformat": 4,
 "nbformat_minor": 5
}
