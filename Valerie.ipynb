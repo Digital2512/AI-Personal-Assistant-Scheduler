{
 "cells": [
  {
   "cell_type": "code",
   "execution_count": null,
   "id": "2730b596-6839-4895-9d0c-4e6ada53ee0e",
   "metadata": {},
   "outputs": [],
   "source": []
  }
 ],
 "metadata": {
  "kernelspec": {
   "display_name": "",
   "name": ""
  },
  "language_info": {
   "name": ""
  }
 },
 "nbformat": 4,
 "nbformat_minor": 5
}
