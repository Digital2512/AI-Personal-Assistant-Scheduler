{
 "cells": [
  {
   "cell_type": "code",
   "execution_count": 10,
   "id": "2660089b-e028-41dc-a9c8-e5663c926d7f",
   "metadata": {},
   "outputs": [],
   "source": [
    "import pm4py\n",
    "import os\n"
   ]
  },
  {
   "cell_type": "code",
   "execution_count": 19,
   "id": "7fc74512-e609-4856-925c-66e4bbce1129",
   "metadata": {},
   "outputs": [
    {
     "data": {
      "application/vnd.jupyter.widget-view+json": {
       "model_id": "14894126e59544b490b5a7a6665473f8",
       "version_major": 2,
       "version_minor": 0
      },
      "text/plain": [
       "parsing log, completed traces ::   0%|          | 0/18 [00:00<?, ?it/s]"
      ]
     },
     "metadata": {},
     "output_type": "display_data"
    }
   ],
   "source": [
    "# Load the .xes file\n",
    "log = pm4py.read_xes(\"./dataset/edited_hh102_labour.xes\")\n",
    "pd = pm4py.convert_to_dataframe(log)\n",
    "\n",
    "selected_columns = ['concept:name', 'lifecycle:transition', 'time:timestamp']\n",
    "pd_subset = pd[selected_columns]\n",
    "\n",
    "\n",
    "pd_subset.to_csv(\"./cleaned-dataset/output.csv\", index=False)\n"
   ]
  },
  {
   "cell_type": "code",
   "execution_count": 11,
   "id": "5f5cedde-8a88-4fb4-92fb-f1c40001d233",
   "metadata": {},
   "outputs": [
    {
     "name": "stdout",
     "output_type": "stream",
     "text": [
      "C:\\Users\\Brend\\Downloads\\AI-Personal-Assistant-Scheduler\n"
     ]
    }
   ],
   "source": [
    "print(os.getcwd())\n"
   ]
  },
  {
   "cell_type": "code",
   "execution_count": null,
   "id": "ace84a04-85bf-40dc-b778-6d48ba8a3258",
   "metadata": {},
   "outputs": [],
   "source": []
  }
 ],
 "metadata": {
  "kernelspec": {
   "display_name": "Python 3 (ipykernel)",
   "language": "python",
   "name": "python3"
  },
  "language_info": {
   "codemirror_mode": {
    "name": "ipython",
    "version": 3
   },
   "file_extension": ".py",
   "mimetype": "text/x-python",
   "name": "python",
   "nbconvert_exporter": "python",
   "pygments_lexer": "ipython3",
   "version": "3.12.6"
  }
 },
 "nbformat": 4,
 "nbformat_minor": 5
}
